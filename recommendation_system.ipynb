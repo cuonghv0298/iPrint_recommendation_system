{
 "cells": [
  {
   "cell_type": "markdown",
   "metadata": {},
   "source": [
    "# Problem Statement\n",
    "\n",
    "iPrint, an Indian media house, provides diverse news and information services across sports, weather, health, stocks, and more. While iPrint has historically recommended popular and similar articles to users, this approach lacks personalization and fails to engage many users, resulting in declining user retention and revenue. To address this, iPrint aims to deliver a more personalized experience by recommending new, relevant articles to users each day and suggesting similar articles on individual news pages.\n",
    "\n",
    "To meet these goals, iPrint seeks a robust recommendation system that will:\n",
    "\n",
    "1.  Display the top 10 new relevant articles to users at the start of each day.\n",
    "2. Recommend the top 10 similar articles when users click on any news item.\n",
    "\n",
    "The recommendation system must avoid showing content previously viewed or removed from the platform, and only English-language articles will be used for content-based recommendations. The final output should provide the names and IDs of the recommended articles.\n",
    "\n",
    "# Procedure Overview\n",
    "\n",
    "1. Data Pre-processing\n",
    "- Impute Ratings: Since the dataset lacks user ratings, generate a \"ratings\" feature based on the interaction type, assigning higher weights to types indicating greater engagement (e.g., highest to content_followed, then content_commented_on, etc.). This processed dataset will serve as the base for collaborative filtering models.\n",
    "- Filter English Content: Extract only English-language articles from the platform_content data for content-based filtering.\n",
    "\n",
    "2. Exploratory Data Analysis (EDA)\n",
    "- Analyze key features like interaction types, consumer and producer locations, item types, and language distributions.\n",
    "- Identify trends such as popular content types, common languages, and primary regions for article consumption.\n",
    "\n",
    "3. Recommendation Techniques\n",
    "- User-based Collaborative Filtering: Build a user-item matrix using the rating values, then generate a user-similarity matrix. Predict ratings for user-item pairs to make recommendations.\n",
    "- Item-based Collaborative Filtering: Create an item-similarity matrix to recommend the top 10 similar items based on similarity scores.\n",
    "- Content-based Filtering: Use text processing (e.g., TF-IDF) on article descriptions to recommend similar items based on content relevance.\n",
    "- ALS (Alternating Least Squares): Create sparse matrices for users and items, train the ALS model, and fine-tune its hyperparameters to improve recommendation quality.\n",
    "\n",
    "4. Hybrid Recommendation System\n",
    "- Combine scores from content-based and collaborative filtering models, assigning appropriate weightings to each. Experiment with model hybrids, such as Content + Item-based or ALS + Content-based, to enhance recommendation accuracy.\n",
    "\n",
    "5. Model Evaluation\n",
    "- Evaluate using metrics like RMSE, MAE, and precision@k for user-specific recommendations, and global precision@k for overall system performance.\n",
    "- For the secondary problem statement, explore online evaluation techniques, considering real-time or dynamic feedback mechanisms to enhance recommendation accuracy in production."
   ]
  },
  {
   "cell_type": "code",
   "execution_count": 2,
   "metadata": {},
   "outputs": [],
   "source": [
    "import pandas as pd\n",
    "import numpy as np\n",
    "from sklearn.feature_extraction.text import TfidfVectorizer"
   ]
  },
  {
   "cell_type": "markdown",
   "metadata": {},
   "source": [
    "# Data Preprocessing"
   ]
  },
  {
   "cell_type": "code",
   "execution_count": null,
   "metadata": {},
   "outputs": [
    {
     "name": "stderr",
     "output_type": "stream",
     "text": [
      "/tmp/ipykernel_439149/1730872651.py:2: DtypeWarning: Columns (4) have mixed types. Specify dtype option on import or set low_memory=False.\n",
      "  consumer_transactions = pd.read_csv('data/consumer_transanctions.csv')\n"
     ]
    },
    {
     "data": {
      "text/html": [
       "<div>\n",
       "<style scoped>\n",
       "    .dataframe tbody tr th:only-of-type {\n",
       "        vertical-align: middle;\n",
       "    }\n",
       "\n",
       "    .dataframe tbody tr th {\n",
       "        vertical-align: top;\n",
       "    }\n",
       "\n",
       "    .dataframe thead th {\n",
       "        text-align: right;\n",
       "    }\n",
       "</style>\n",
       "<table border=\"1\" class=\"dataframe\">\n",
       "  <thead>\n",
       "    <tr style=\"text-align: right;\">\n",
       "      <th></th>\n",
       "      <th>event_timestamp</th>\n",
       "      <th>interaction_type</th>\n",
       "      <th>item_id</th>\n",
       "      <th>consumer_id</th>\n",
       "      <th>consumer_session_id</th>\n",
       "      <th>consumer_device_info</th>\n",
       "      <th>consumer_location</th>\n",
       "      <th>country</th>\n",
       "    </tr>\n",
       "  </thead>\n",
       "  <tbody>\n",
       "    <tr>\n",
       "      <th>0</th>\n",
       "      <td>1465413032</td>\n",
       "      <td>content_watched</td>\n",
       "      <td>-3499919498720038879</td>\n",
       "      <td>-8845298781299428018</td>\n",
       "      <td>1264196770339959068</td>\n",
       "      <td>NaN</td>\n",
       "      <td>NaN</td>\n",
       "      <td>NaN</td>\n",
       "    </tr>\n",
       "    <tr>\n",
       "      <th>1</th>\n",
       "      <td>1465412560</td>\n",
       "      <td>content_watched</td>\n",
       "      <td>8890720798209849691</td>\n",
       "      <td>-1032019229384696495</td>\n",
       "      <td>3621737643587579081</td>\n",
       "      <td>Mozilla/5.0 (Macintosh; Intel Mac OS X 10_11_2...</td>\n",
       "      <td>NY</td>\n",
       "      <td>US</td>\n",
       "    </tr>\n",
       "    <tr>\n",
       "      <th>2</th>\n",
       "      <td>1465416190</td>\n",
       "      <td>content_watched</td>\n",
       "      <td>310515487419366995</td>\n",
       "      <td>-1130272294246983140</td>\n",
       "      <td>2631864456530402479</td>\n",
       "      <td>NaN</td>\n",
       "      <td>NaN</td>\n",
       "      <td>NaN</td>\n",
       "    </tr>\n",
       "    <tr>\n",
       "      <th>3</th>\n",
       "      <td>1465413895</td>\n",
       "      <td>content_followed</td>\n",
       "      <td>310515487419366995</td>\n",
       "      <td>344280948527967603</td>\n",
       "      <td>-3167637573980064150</td>\n",
       "      <td>NaN</td>\n",
       "      <td>NaN</td>\n",
       "      <td>NaN</td>\n",
       "    </tr>\n",
       "    <tr>\n",
       "      <th>4</th>\n",
       "      <td>1465412290</td>\n",
       "      <td>content_watched</td>\n",
       "      <td>-7820640624231356730</td>\n",
       "      <td>-445337111692715325</td>\n",
       "      <td>561148 1178424124714</td>\n",
       "      <td>NaN</td>\n",
       "      <td>NaN</td>\n",
       "      <td>NaN</td>\n",
       "    </tr>\n",
       "  </tbody>\n",
       "</table>\n",
       "</div>"
      ],
      "text/plain": [
       "   event_timestamp  interaction_type              item_id  \\\n",
       "0       1465413032   content_watched -3499919498720038879   \n",
       "1       1465412560   content_watched  8890720798209849691   \n",
       "2       1465416190   content_watched   310515487419366995   \n",
       "3       1465413895  content_followed   310515487419366995   \n",
       "4       1465412290   content_watched -7820640624231356730   \n",
       "\n",
       "           consumer_id   consumer_session_id  \\\n",
       "0 -8845298781299428018   1264196770339959068   \n",
       "1 -1032019229384696495   3621737643587579081   \n",
       "2 -1130272294246983140   2631864456530402479   \n",
       "3   344280948527967603  -3167637573980064150   \n",
       "4  -445337111692715325  561148 1178424124714   \n",
       "\n",
       "                                consumer_device_info consumer_location country  \n",
       "0                                                NaN               NaN     NaN  \n",
       "1  Mozilla/5.0 (Macintosh; Intel Mac OS X 10_11_2...                NY      US  \n",
       "2                                                NaN               NaN     NaN  \n",
       "3                                                NaN               NaN     NaN  \n",
       "4                                                NaN               NaN     NaN  "
      ]
     },
     "execution_count": 6,
     "metadata": {},
     "output_type": "execute_result"
    }
   ],
   "source": [
    "# Load the datasets\n",
    "consumer_transactions = pd.read_csv('data/consumer_transactions.csv')\n",
    "consumer_transactions.head()"
   ]
  },
  {
   "cell_type": "code",
   "execution_count": null,
   "metadata": {},
   "outputs": [],
   "source": []
  }
 ],
 "metadata": {
  "kernelspec": {
   "display_name": "sma_ai_api",
   "language": "python",
   "name": "python3"
  },
  "language_info": {
   "codemirror_mode": {
    "name": "ipython",
    "version": 3
   },
   "file_extension": ".py",
   "mimetype": "text/x-python",
   "name": "python",
   "nbconvert_exporter": "python",
   "pygments_lexer": "ipython3",
   "version": "3.10.14"
  }
 },
 "nbformat": 4,
 "nbformat_minor": 2
}
